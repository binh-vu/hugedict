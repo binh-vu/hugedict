{
 "cells": [
  {
   "cell_type": "code",
   "execution_count": 1,
   "metadata": {},
   "outputs": [
    {
     "name": "stderr",
     "output_type": "stream",
     "text": [
      "/workspace/hugedict/.venv/lib/python3.9/site-packages/tqdm/auto.py:22: TqdmWarning: IProgress not found. Please update jupyter and ipywidgets. See https://ipywidgets.readthedocs.io/en/stable/user_install.html\n",
      "  from .autonotebook import tqdm as notebook_tqdm\n"
     ]
    }
   ],
   "source": [
    "import numpy as np, seaborn as sns, matplotlib.font_manager as fm\n",
    "import pandas as pd, os, subprocess\n",
    "from pathlib import Path\n",
    "from sm.prelude import M"
   ]
  },
  {
   "cell_type": "code",
   "execution_count": 2,
   "metadata": {},
   "outputs": [],
   "source": [
    "fm.fontManager.addfont(\"/home/rook/Dropbox/Fonts/CMU/ttf/cmunss.ttf\")  # set font\n",
    "sns.set_theme(font='CMU Sans Serif', font_scale=1)"
   ]
  },
  {
   "cell_type": "code",
   "execution_count": 11,
   "metadata": {},
   "outputs": [
    {
     "name": "stdout",
     "output_type": "stream",
     "text": [
      "default--compress-type=zstd-6-w-14: 585MB - 34.88% (585/1677)\n",
      "default--compress-type=zstd-6-w14-rem: 586MB - 34.94% (586/1677)\n",
      "default--compress-type=zstd-6-rem: 586MB - 34.94% (586/1677)\n",
      "default--compress-type=bottom-zstd-6-w14-rem: 586MB - 34.94% (586/1677)\n",
      "default--compress-type=zstd-6-w14-d10-rem: 604MB - 36.02% (604/1677)\n",
      "default--compress-type=zstd-3-w14-rem: 656MB - 39.12% (656/1677)\n",
      "default--compress-type=zstd-3-w-14-rem: 657MB - 39.18% (657/1677)\n",
      "default--compress-type=zstd-3-w-14-d10-rem: 676MB - 40.31% (676/1677)\n",
      "default--compress-type=zstd-6-w14: 1228MB - 73.23% (1228/1677)\n",
      "default--compress-type=zstd-6: 1228MB - 73.23% (1228/1677)\n",
      "default--compress-type=zstd: 1288MB - 76.80% (1288/1677)\n",
      "zstd-6: 1395MB - 83.18% (1395/1677)\n",
      "default--compress-type=lz4: 1667MB - 99.40% (1667/1677)\n",
      "default: 1677MB - 100.00% (1677/1677)\n"
     ]
    }
   ],
   "source": [
    "db2size = {\n",
    "    dir.name: int(subprocess.check_output([\"du\", \"-hsm\", str(dir.absolute())]).decode().split(\"\\t\")[0])\n",
    "    for dir in Path(\"benchmarks/data/databases\").iterdir()\n",
    "}\n",
    "target = \"default\"\n",
    "for db, size in sorted(db2size.items(), key=lambda x: x[1]):\n",
    "    print(f\"{db}: {size}MB - {M.percentage(size, db2size[target])}\")"
   ]
  },
  {
   "cell_type": "code",
   "execution_count": 14,
   "metadata": {},
   "outputs": [
    {
     "data": {
      "text/html": [
       "<div>\n",
       "<style scoped>\n",
       "    .dataframe tbody tr th:only-of-type {\n",
       "        vertical-align: middle;\n",
       "    }\n",
       "\n",
       "    .dataframe tbody tr th {\n",
       "        vertical-align: top;\n",
       "    }\n",
       "\n",
       "    .dataframe thead tr th {\n",
       "        text-align: left;\n",
       "    }\n",
       "\n",
       "    .dataframe thead tr:last-of-type th {\n",
       "        text-align: right;\n",
       "    }\n",
       "</style>\n",
       "<table border=\"1\" class=\"dataframe\">\n",
       "  <thead>\n",
       "    <tr>\n",
       "      <th></th>\n",
       "      <th colspan=\"3\" halign=\"left\">runtime</th>\n",
       "      <th>percentage</th>\n",
       "    </tr>\n",
       "    <tr>\n",
       "      <th></th>\n",
       "      <th>mean</th>\n",
       "      <th>sem</th>\n",
       "      <th>count</th>\n",
       "      <th></th>\n",
       "    </tr>\n",
       "    <tr>\n",
       "      <th>name</th>\n",
       "      <th></th>\n",
       "      <th></th>\n",
       "      <th></th>\n",
       "      <th></th>\n",
       "    </tr>\n",
       "  </thead>\n",
       "  <tbody>\n",
       "    <tr>\n",
       "      <th>zstd-6</th>\n",
       "      <td>0.559772</td>\n",
       "      <td>0.008456</td>\n",
       "      <td>20</td>\n",
       "      <td>1.000000</td>\n",
       "    </tr>\n",
       "    <tr>\n",
       "      <th>default--compress-type=zstd-3-w14-rem</th>\n",
       "      <td>0.582486</td>\n",
       "      <td>0.008009</td>\n",
       "      <td>20</td>\n",
       "      <td>1.040577</td>\n",
       "    </tr>\n",
       "    <tr>\n",
       "      <th>default--compress-type=zstd-3-w-14-d10-rem</th>\n",
       "      <td>0.583042</td>\n",
       "      <td>0.008261</td>\n",
       "      <td>20</td>\n",
       "      <td>1.041569</td>\n",
       "    </tr>\n",
       "    <tr>\n",
       "      <th>default--compress-type=zstd-3-w-14-rem</th>\n",
       "      <td>0.583996</td>\n",
       "      <td>0.010237</td>\n",
       "      <td>20</td>\n",
       "      <td>1.043275</td>\n",
       "    </tr>\n",
       "    <tr>\n",
       "      <th>default--compress-type=zstd-6-w-14</th>\n",
       "      <td>0.587112</td>\n",
       "      <td>0.011376</td>\n",
       "      <td>20</td>\n",
       "      <td>1.048842</td>\n",
       "    </tr>\n",
       "    <tr>\n",
       "      <th>default--compress-type=zstd-6-w14-d10-rem</th>\n",
       "      <td>0.633194</td>\n",
       "      <td>0.043243</td>\n",
       "      <td>20</td>\n",
       "      <td>1.131163</td>\n",
       "    </tr>\n",
       "  </tbody>\n",
       "</table>\n",
       "</div>"
      ],
      "text/plain": [
       "                                             runtime                  \\\n",
       "                                                mean       sem count   \n",
       "name                                                                   \n",
       "zstd-6                                      0.559772  0.008456    20   \n",
       "default--compress-type=zstd-3-w14-rem       0.582486  0.008009    20   \n",
       "default--compress-type=zstd-3-w-14-d10-rem  0.583042  0.008261    20   \n",
       "default--compress-type=zstd-3-w-14-rem      0.583996  0.010237    20   \n",
       "default--compress-type=zstd-6-w-14          0.587112  0.011376    20   \n",
       "default--compress-type=zstd-6-w14-d10-rem   0.633194  0.043243    20   \n",
       "\n",
       "                                           percentage  \n",
       "                                                       \n",
       "name                                                   \n",
       "zstd-6                                       1.000000  \n",
       "default--compress-type=zstd-3-w14-rem        1.040577  \n",
       "default--compress-type=zstd-3-w-14-d10-rem   1.041569  \n",
       "default--compress-type=zstd-3-w-14-rem       1.043275  \n",
       "default--compress-type=zstd-6-w-14           1.048842  \n",
       "default--compress-type=zstd-6-w14-d10-rem    1.131163  "
      ]
     },
     "execution_count": 14,
     "metadata": {},
     "output_type": "execute_result"
    }
   ],
   "source": [
    "df = pd.read_csv(\"benchmarks/data/runtime.txt\")\n",
    "tmp = df[['name', 'runtime']].groupby('name').agg([\"mean\", \"sem\", \"count\"]).sort_values((\"runtime\", \"mean\"))\n",
    "tmp['percentage'] = tmp[('runtime', 'mean')] / tmp[('runtime', 'mean')]['zstd-6']\n",
    "tmp"
   ]
  },
  {
   "cell_type": "code",
   "execution_count": 61,
   "metadata": {},
   "outputs": [
    {
     "data": {
      "text/plain": [
       "<seaborn.axisgrid.FacetGrid at 0x7f05472cebb0>"
      ]
     },
     "execution_count": 61,
     "metadata": {},
     "output_type": "execute_result"
    },
    {
     "data": {
      "image/png": "[encoded data removed]",
      "text/plain": [
       "<Figure size 1500x500 with 1 Axes>"
      ]
     },
     "metadata": {},
     "output_type": "display_data"
    }
   ],
   "source": [
    "ax = sns.catplot(x=\"name\", y=\"runtime\", kind=\"bar\", data=df, aspect=3)\n",
    "ax.set(xlabel=\"name\", ylabel=\"Runtime (seconds)\")"
   ]
  },
  {
   "cell_type": "code",
   "execution_count": null,
   "metadata": {},
   "outputs": [],
   "source": []
  }
 ],
 "metadata": {
  "kernelspec": {
   "display_name": "Python 3.9.7 ('.venv': venv)",
   "language": "python",
   "name": "python3"
  },
  "language_info": {
   "codemirror_mode": {
    "name": "ipython",
    "version": 3
   },
   "file_extension": ".py",
   "mimetype": "text/x-python",
   "name": "python",
   "nbconvert_exporter": "python",
   "pygments_lexer": "ipython3",
   "version": "3.9.7"
  },
  "orig_nbformat": 4,
  "vscode": {
   "interpreter": {
    "hash": "3a4380b13e5c3181737ad0a440ee2e5072f6f89a6f577e15b530ebafc9227677"
   }
  }
 },
 "nbformat": 4,
 "nbformat_minor": 2
}
